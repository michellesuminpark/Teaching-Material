{
 "cells": [
  {
   "cell_type": "markdown",
   "metadata": {},
   "source": [
    "# Teaching Time Series"
   ]
  },
  {
   "cell_type": "markdown",
   "metadata": {},
   "source": [
    "### **Introduction**"
   ]
  },
  {
   "cell_type": "markdown",
   "metadata": {},
   "source": [
    "We will be looking at how to teach Time Series Analysis to students in Data 8 level or who have just taken Data 8. While there are many methods to appraoch Time Series Analysis (visualization methods and aggregation method in particular), we will focus on visualizing time series using `matplotlib` from Python and `pandas`, looking at aggregation method of `groupby`, `resample('datetime object')`, and `rolling`.\n",
    "\n",
    "1. Using `matplotlib`\n",
    "    - `groupby` method \n",
    "    - `resample('datetime object')` method\n",
    "    - `rolling` method\n",
    "2. Using `pandas`\n",
    "    - `groupby` method \n",
    "    - `resample('datetime object')` method\n",
    "    - `rolling` method"
   ]
  },
  {
   "cell_type": "code",
   "execution_count": null,
   "metadata": {},
   "outputs": [],
   "source": [
    "from datascience import *\n",
    "from collections import Counter\n",
    "import numpy as np\n",
    "import pandas as pd\n",
    "from scipy import stats\n",
    "%matplotlib inline\n",
    "import matplotlib.pyplot as plots\n",
    "plots.style.use('fivethirtyeight')"
   ]
  },
  {
   "cell_type": "markdown",
   "metadata": {},
   "source": [
    "<br/>\n",
    "\n",
    "<hr style=\"border: 1px solid #fdb515;\" />"
   ]
  },
  {
   "cell_type": "markdown",
   "metadata": {},
   "source": [
    "## Times Series \n",
    "Time Series Analysis is a method used to examine data points collected sequentially over time. These data points, plotted on a graph with time on the horizontal (x-axis) and the variable of interest on the vertical (y-axis), show how a particular variable evolves over time. By studying past patterns in this sequence, time series analysis can help predict future values. It's especially useful for understanding trends, cycles, or any recurring patterns in data over a time period."
   ]
  },
  {
   "cell_type": "markdown",
   "metadata": {},
   "source": [
    "## Loading the dataset."
   ]
  },
  {
   "cell_type": "markdown",
   "metadata": {},
   "source": [
    "We will be looking at the Nashville police stops dataset. "
   ]
  },
  {
   "cell_type": "code",
   "execution_count": null,
   "metadata": {},
   "outputs": [],
   "source": [
    "# file too big to load for the http. \n",
    "# stops = pd.read_csv(\"https://github.com/ds-modules/data/raw/main/nashville_sample.csv\")\n",
    "\n",
    "user = \"suminpark\" #insert your user name\n",
    "path = \"/Users/\" + user +  \"/Documents/GitHub/Modules/Legalst-123/labs/data\" #edit this later for the actual lab. \n",
    "# user = \"fionaaaaa_mei\" #insert your user name\n",
    "# path = \"/Users/\" + user +  \"/Documents/GitHub/Legalst-123/labs/data\" #edit this later for the actual lab. \n",
    "stops = pd.read_csv(path + \"/stops_sample.csv\", index_col = 0)\n",
    "stops.head()"
   ]
  },
  {
   "cell_type": "markdown",
   "metadata": {},
   "source": [
    "## Using MatPlotLib"
   ]
  },
  {
   "cell_type": "markdown",
   "metadata": {},
   "source": []
  },
  {
   "cell_type": "markdown",
   "metadata": {},
   "source": [
    "## Using Pandas"
   ]
  },
  {
   "cell_type": "markdown",
   "metadata": {},
   "source": [
    "#### just a sec, working on time series to check something.\n",
    "time_series_df = stops.copy()\n",
    "time_series_df['datetime'] = pd.to_datetime(time_series_df['date'], format='%Y-%m-%d')\n",
    "time_series_df['datetime'][0] #taking the first itme out from the \"date\" Series, the object should be a timestamp."
   ]
  },
  {
   "cell_type": "code",
   "execution_count": null,
   "metadata": {},
   "outputs": [],
   "source": [
    "time_series_df['datetime'][0].strftime('%b %Y')\n",
    "time_series_df['adjusted_datetime'] = [time_series_df['datetime'][index].strftime('%b %Y') for index in np.arange(time_series_df.shape[0])]\n",
    "time_series_df['adjusted_datetime']"
   ]
  },
  {
   "cell_type": "code",
   "execution_count": null,
   "metadata": {},
   "outputs": [],
   "source": [
    "time_series_df.index = time_series_df['datetime']\n",
    "groupedby_count = time_series_df.groupby('adjusted_datetime').count()\n",
    "\n",
    "groupedby_count\n"
   ]
  },
  {
   "cell_type": "code",
   "execution_count": null,
   "metadata": {},
   "outputs": [],
   "source": [
    "sub_plot = groupedby_count.plot(y='raw_row_number', use_index=True,figsize = (25, 8))\n",
    "# Adds a x-axis label\n",
    "sub_plot.set_xlabel(\"Time\")\n",
    "\n",
    "# Adds a y-axis label\n",
    "sub_plot.set_ylabel(\"count\")\n",
    "\n",
    "# Adds a title to our line plot\n",
    "sub_plot.set_title(\"time analysis on police count\")\n",
    "\n",
    "\n",
    "# Adds the time on the x-axis\n",
    "sub_plot.set_xticks(groupedby_count.index)\n",
    "\n",
    "\n",
    "# Sets the size of the x-axis\n",
    "sub_plot.tick_params(axis='x', labelsize=13)"
   ]
  }
 ],
 "metadata": {
  "language_info": {
   "name": "python"
  },
  "orig_nbformat": 4
 },
 "nbformat": 4,
 "nbformat_minor": 2
}
